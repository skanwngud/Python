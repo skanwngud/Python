{
 "cells": [
  {
   "cell_type": "markdown",
   "metadata": {},
   "source": [
    "### 클래스"
   ]
  }
 ],
 "metadata": {
  "interpreter": {
   "hash": "6f05f2586325ab06057f00916faef197a5b35cb0ba5981bcc38455ce2273f70d"
  },
  "kernelspec": {
   "display_name": "Python 3.8.13 ('study')",
   "language": "python",
   "name": "python3"
  },
  "language_info": {
   "name": "python",
   "version": "3.8.13"
  },
  "orig_nbformat": 4
 },
 "nbformat": 4,
 "nbformat_minor": 2
}
