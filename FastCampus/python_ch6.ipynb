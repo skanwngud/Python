{
 "cells": [
  {
   "cell_type": "markdown",
   "metadata": {},
   "source": [
    "### 클래스"
   ]
  },
  {
   "cell_type": "code",
   "execution_count": 1,
   "metadata": {},
   "outputs": [],
   "source": [
    "class human:  # 이름 정의\n",
    "    def __init__(self, height, age):  # 클래스가 처음 호출 될  때 실행 될 method, 첫 번째 변수는 자기 자신을 가져온다.\n",
    "        self.height = height  # class 변수\n",
    "        self.age = age\n",
    "        \n",
    "    def how_old(self):  # class method\n",
    "        print(f\"{self.age} 살 입니다.\")\n",
    "        \n",
    "    def how_tall(self):\n",
    "        print(f\"{self.height} cm 입니다.\")"
   ]
  },
  {
   "cell_type": "code",
   "execution_count": 3,
   "metadata": {},
   "outputs": [
    {
     "name": "stdout",
     "output_type": "stream",
     "text": [
      "30 살 입니다.\n",
      "180 cm 입니다.\n"
     ]
    }
   ],
   "source": [
    "person = human(180, 30)\n",
    "person.how_old()\n",
    "person.how_tall()"
   ]
  },
  {
   "cell_type": "code",
   "execution_count": 7,
   "metadata": {},
   "outputs": [
    {
     "name": "stdout",
     "output_type": "stream",
     "text": [
      "100\n"
     ]
    }
   ],
   "source": [
    "person.weight = 100  # 클래스의 변수 추가\n",
    "\n",
    "print(person.weight)"
   ]
  },
  {
   "cell_type": "markdown",
   "metadata": {},
   "source": [
    "__init__ 은 class 가 처음 선언 될 때 실행 되는 생성자."
   ]
  },
  {
   "cell_type": "code",
   "execution_count": 8,
   "metadata": {},
   "outputs": [],
   "source": [
    "people1 = human(180, 30)\n",
    "people2 = human(180, 30)"
   ]
  },
  {
   "cell_type": "code",
   "execution_count": 9,
   "metadata": {},
   "outputs": [
    {
     "data": {
      "text/plain": [
       "False"
      ]
     },
     "execution_count": 9,
     "metadata": {},
     "output_type": "execute_result"
    }
   ],
   "source": [
    "people1 == people2"
   ]
  },
  {
   "cell_type": "code",
   "execution_count": 10,
   "metadata": {},
   "outputs": [],
   "source": [
    "def human_func(height, age):\n",
    "    height = height\n",
    "    age = age"
   ]
  },
  {
   "cell_type": "code",
   "execution_count": 11,
   "metadata": {},
   "outputs": [],
   "source": [
    "people11 = human_func(180, 30)\n",
    "people22 = human_func(180, 30)"
   ]
  },
  {
   "cell_type": "code",
   "execution_count": 12,
   "metadata": {},
   "outputs": [
    {
     "data": {
      "text/plain": [
       "True"
      ]
     },
     "execution_count": 12,
     "metadata": {},
     "output_type": "execute_result"
    }
   ],
   "source": [
    "people11 == people22"
   ]
  },
  {
   "cell_type": "markdown",
   "metadata": {},
   "source": [
    "## 같은 클래스로 같은 변수를 갖는 인스턴스를 두 개 생성하면 서로 다른 메모리에 할당 되지만, 같은 함수로 같은 변수를 갖는 인스턴스를 두 개 생성하면 같은 메모리에 할당 된다."
   ]
  }
 ],
 "metadata": {
  "interpreter": {
   "hash": "6f05f2586325ab06057f00916faef197a5b35cb0ba5981bcc38455ce2273f70d"
  },
  "kernelspec": {
   "display_name": "Python 3.8.13 ('study')",
   "language": "python",
   "name": "python3"
  },
  "language_info": {
   "codemirror_mode": {
    "name": "ipython",
    "version": 3
   },
   "file_extension": ".py",
   "mimetype": "text/x-python",
   "name": "python",
   "nbconvert_exporter": "python",
   "pygments_lexer": "ipython3",
   "version": "3.8.13"
  },
  "orig_nbformat": 4
 },
 "nbformat": 4,
 "nbformat_minor": 2
}
