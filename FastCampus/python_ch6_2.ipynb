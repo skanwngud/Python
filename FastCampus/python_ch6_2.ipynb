{
 "cells": [
  {
   "cell_type": "markdown",
   "metadata": {},
   "source": [
    "## 클래스 특수 메소드"
   ]
  },
  {
   "cell_type": "markdown",
   "metadata": {},
   "source": [
    "생성자: __init__()\n",
    "    객체가 생성된 후 가장 먼저 호출 되는 메소드\n",
    "    첫 번째 매개변수는 self 이며 이후에 맥변수 추가 기능\n",
    "    주로 멤버 변수의 초기화 코드로 작성"
   ]
  },
  {
   "cell_type": "markdown",
   "metadata": {},
   "source": [
    "소멸자: __del__() 객체가 소멸 될 때 호출 되는 메소드. 외부 자원을 사용하는 경우 해제하는 코드로 주로 사용하며, 클래스가 소멸할 때 다른 것도 같이 삭제시킬 때 주로 사용"
   ]
  },
  {
   "cell_type": "markdown",
   "metadata": {},
   "source": [
    "## 정적 메소드\n",
    "### @staticmethod 데코레이터로 수식"
   ]
  },
  {
   "cell_type": "code",
   "execution_count": 5,
   "metadata": {},
   "outputs": [],
   "source": [
    "class human:\n",
    "    def __init__(self, height, age):\n",
    "        self.height = height\n",
    "        self.age = age\n",
    "        \n",
    "    @staticmethod\n",
    "    def decorator(self):\n",
    "        print(self.height)\n",
    "        print(self.age)"
   ]
  }
 ],
 "metadata": {
  "interpreter": {
   "hash": "6f05f2586325ab06057f00916faef197a5b35cb0ba5981bcc38455ce2273f70d"
  },
  "kernelspec": {
   "display_name": "Python 3.8.13 ('study')",
   "language": "python",
   "name": "python3"
  },
  "language_info": {
   "codemirror_mode": {
    "name": "ipython",
    "version": 3
   },
   "file_extension": ".py",
   "mimetype": "text/x-python",
   "name": "python",
   "nbconvert_exporter": "python",
   "pygments_lexer": "ipython3",
   "version": "3.8.13"
  },
  "orig_nbformat": 4
 },
 "nbformat": 4,
 "nbformat_minor": 2
}
