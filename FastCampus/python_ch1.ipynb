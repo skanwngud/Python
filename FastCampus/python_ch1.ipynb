{
 "cells": [
  {
   "cell_type": "markdown",
   "metadata": {},
   "source": [
    "### 주석"
   ]
  },
  {
   "cell_type": "code",
   "execution_count": 14,
   "metadata": {},
   "outputs": [
    {
     "data": {
      "text/plain": [
       "'\\n안녕하세요\\n저는 유주형입니다\\n'"
      ]
     },
     "execution_count": 14,
     "metadata": {},
     "output_type": "execute_result"
    }
   ],
   "source": [
    "# 안녕하세요\n",
    "# 주석이란 무엇일까\n",
    "\n",
    "'''\n",
    "안녕하세요\n",
    "저는 유주형입니다\n",
    "'''"
   ]
  },
  {
   "cell_type": "markdown",
   "metadata": {},
   "source": [
    "### print"
   ]
  },
  {
   "cell_type": "code",
   "execution_count": 15,
   "metadata": {},
   "outputs": [
    {
     "name": "stdout",
     "output_type": "stream",
     "text": [
      "Hello world\n",
      "안녕 파이썬\n"
     ]
    }
   ],
   "source": [
    "print(\"Hello world\")\n",
    "print(\"안녕 파이썬\")"
   ]
  },
  {
   "cell_type": "markdown",
   "metadata": {},
   "source": [
    "### 변수 선언"
   ]
  },
  {
   "cell_type": "code",
   "execution_count": 16,
   "metadata": {},
   "outputs": [
    {
     "name": "stdout",
     "output_type": "stream",
     "text": [
      "2000\n",
      "2020\n",
      "1920\n"
     ]
    }
   ],
   "source": [
    "a = 2000\n",
    "print(a)\n",
    "a = a + 20\n",
    "print(a)\n",
    "a = a - 100\n",
    "print(a)"
   ]
  },
  {
   "cell_type": "markdown",
   "metadata": {},
   "source": [
    "### 변수선언 2"
   ]
  },
  {
   "cell_type": "code",
   "execution_count": 17,
   "metadata": {},
   "outputs": [],
   "source": [
    "a1 = 100  # int\n",
    "a2 = 6.76  # float\n",
    "a3 = \"대박 사건\""
   ]
  },
  {
   "cell_type": "markdown",
   "metadata": {},
   "source": [
    "### 변수선언 3\n",
    " 한 줄의 코드가 길어 질 때 \\ 사용"
   ]
  },
  {
   "cell_type": "code",
   "execution_count": 18,
   "metadata": {},
   "outputs": [
    {
     "name": "stdout",
     "output_type": "stream",
     "text": [
      "    대박사건\n"
     ]
    }
   ],
   "source": [
    "print(\"\\\n",
    "    대박사건\")"
   ]
  },
  {
   "cell_type": "markdown",
   "metadata": {},
   "source": [
    "### if 문"
   ]
  },
  {
   "cell_type": "code",
   "execution_count": 19,
   "metadata": {},
   "outputs": [
    {
     "name": "stdout",
     "output_type": "stream",
     "text": [
      "0 보다 큽니다\n"
     ]
    }
   ],
   "source": [
    "x = 100\n",
    "if x > 0:\n",
    "    print(\"0 보다 큽니다\")\n",
    "else:\n",
    "    print(\"0 보다 작다\")"
   ]
  },
  {
   "cell_type": "markdown",
   "metadata": {},
   "source": [
    "### 대입과 if 문"
   ]
  },
  {
   "cell_type": "code",
   "execution_count": 20,
   "metadata": {},
   "outputs": [
    {
     "name": "stdout",
     "output_type": "stream",
     "text": [
      "a1 가 a2 보다 작다\n"
     ]
    }
   ],
   "source": [
    "a1 = 7\n",
    "a2 = 10\n",
    "if a1 > a2:\n",
    "    print(\"a1 가 a2 보다 크다\")\n",
    "else:\n",
    "    print(\"a1 가 a2 보다 작다\")"
   ]
  },
  {
   "cell_type": "markdown",
   "metadata": {},
   "source": [
    "### 기본 연산"
   ]
  },
  {
   "cell_type": "code",
   "execution_count": 21,
   "metadata": {},
   "outputs": [
    {
     "name": "stdout",
     "output_type": "stream",
     "text": [
      "343\n"
     ]
    }
   ],
   "source": [
    "b = 7\n",
    "print(b ** 3)  # ** 은 거듭제곱, 즉 b 의 3제곱"
   ]
  }
 ],
 "metadata": {
  "interpreter": {
   "hash": "ae3c8d95478d91b8cf9fb350113605f576afe01afbc253cf033be92c0cc40e8f"
  },
  "kernelspec": {
   "display_name": "Python 3.8.13 ('study')",
   "language": "python",
   "name": "python3"
  },
  "language_info": {
   "codemirror_mode": {
    "name": "ipython",
    "version": 3
   },
   "file_extension": ".py",
   "mimetype": "text/x-python",
   "name": "python",
   "nbconvert_exporter": "python",
   "pygments_lexer": "ipython3",
   "version": "3.8.13"
  },
  "orig_nbformat": 4
 },
 "nbformat": 4,
 "nbformat_minor": 2
}
