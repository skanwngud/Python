{
 "cells": [
  {
   "cell_type": "code",
   "execution_count": null,
   "metadata": {},
   "outputs": [],
   "source": [
    "import pandas as pd\n",
    "import numpy as np\n",
    "\n",
    "import rdkit.Chem as Chem\n",
    "import rdkit.Chem.AllChem as AllChem\n",
    "\n",
    "import sklearn.metrics as metrics\n",
    "\n",
    "from xgboost import XGBClassifier\n",
    "\n",
    "from sklearn.model_selection import cross_val_predict, KFold, StratifiedKFold\n",
    "\n",
    "import warnings\n",
    "warnings.filterwarnings('ignore')\n",
    "\n",
    "random_state = 23"
   ]
  },
  {
   "cell_type": "code",
   "execution_count": null,
   "metadata": {},
   "outputs": [],
   "source": [
    "df = pd.read_csv('cmpd.csv')\n",
    "df"
   ]
  },
  {
   "cell_type": "code",
   "execution_count": null,
   "metadata": {},
   "outputs": [],
   "source": [
    "df['mol'] = df.smiles.apply(Chem.MolFromSmiles)\n",
    "df['mol'] = df.mol.apply(Chem.AddHs)\n",
    "df"
   ]
  },
  {
   "cell_type": "code",
   "execution_count": null,
   "metadata": {},
   "outputs": [],
   "source": [
    "for idx in range(len(df)):\n",
    "    temp_list = []\n",
    "    temp_list.append(df.iloc[idx, 0].split(\"-\"))\n",
    "    df['num_of_atoms'] = df['mol'][idx].GetNumAtoms()\n",
    "    df['num_of_heavy_atoms'] = df['mol'][idx].GetNumHeavyAtoms()\n",
    "    df['inchikey_1'] = temp_list[0][0]\n",
    "    df['inchikey_2'] = temp_list[0][1]"
   ]
  },
  {
   "cell_type": "code",
   "execution_count": null,
   "metadata": {},
   "outputs": [],
   "source": [
    "df = df[['inchikey', 'inchikey_1', 'inchikey_2', 'smiles', 'group', 'activity', 'mol', 'num_of_atoms', 'num_of_heavy_atoms']]\n",
    "df"
   ]
  },
  {
   "cell_type": "code",
   "execution_count": null,
   "metadata": {},
   "outputs": [],
   "source": [
    "def get_Xy(df):\n",
    "    X = np.vstack(df.mol.apply(lambda m: list(AllChem.GetMorganFingerprintAsBitVect(m, 9, nBits=2048))))\n",
    "    y = df.activity.eq('active').astype(float).to_numpy()\n",
    "    return X, y\n",
    "\n",
    "X_train, y_train = get_Xy(df[df.group.eq('train')])\n",
    "X_test, y_test = get_Xy(df[df.group.eq('test')])\n",
    "\n",
    "print(X_train.shape, y_train.shape)\n",
    "print(X_test.shape, y_test.shape)"
   ]
  },
  {
   "cell_type": "code",
   "execution_count": null,
   "metadata": {},
   "outputs": [],
   "source": [
    "\n",
    "kf = KFold(n_splits=3, shuffle=True)\n",
    "\n",
    "for train_idx, test_idx in kf.split(X_train, y_train):\n",
    "    model = XGBClassifier(\n",
    "        n_jobs=-1,\n",
    "        max_depth=9\n",
    "    )\n",
    "    \n",
    "    x_train_fold = X_train[train_idx]\n",
    "    y_train_fold = y_train[train_idx]\n",
    "    x_test_fold = X_train[test_idx]\n",
    "    y_test_fold = y_train[test_idx]\n",
    "\n",
    "    model.fit(x_train_fold, y_train_fold)\n",
    "    y_pred = model.predict_proba(x_test_fold)[:, 1]\n",
    "\n",
    "    log_loss = metrics.log_loss(y_test_fold, y_pred, labels=[0, 1])\n",
    "    precision, recall, _ = metrics.precision_recall_curve(y_test_fold, y_pred, pos_label=1)\n",
    "    fpr_roc, tpr_roc, _ = metrics.roc_curve(y_test_fold, y_pred, pos_label=1)\n",
    "\n",
    "    auc1 = metrics.auc(recall, precision)\n",
    "    auc2 = metrics.auc(fpr_roc, tpr_roc)\n",
    "\n",
    "    print(log_loss)\n",
    "    print(auc1)\n",
    "    print(auc2)"
   ]
  },
  {
   "cell_type": "code",
   "execution_count": null,
   "metadata": {},
   "outputs": [],
   "source": [
    "# log_loss = metrics.log_loss(y_test, y_pred, labels=[0, 1])\n",
    "\n",
    "# precision, recall, _ = metrics.precision_recall_curve(y_test, y_pred, pos_label=1)\n",
    "# fpr_roc, tpr_roc, _ = metrics.roc_curve(y_test, y_pred, pos_label=1)\n",
    "\n",
    "# auc1 = metrics.auc(recall, precision)\n",
    "# auc2 = metrics.auc(fpr_roc, tpr_roc)"
   ]
  },
  {
   "cell_type": "code",
   "execution_count": null,
   "metadata": {},
   "outputs": [],
   "source": [
    "print(f\"score : {score}\")\n",
    "print(f\"log_loss : {log_loss}\")\n",
    "print(f\"auc1 : {auc1}\")\n",
    "print(f\"auc2 : {auc2}\")\n",
    "\n",
    "# score : 0.8229233741146169\n",
    "# log_liss : 0.41878918961055056\n",
    "# auc1 : 0.8563724080878554\n",
    "# auc2 : 0.8807145044217504"
   ]
  }
 ],
 "metadata": {
  "interpreter": {
   "hash": "aa01bd4f9e7f3172056c2b5a9fff2142e6cb7e119fad403d03f0208e65b73e5a"
  },
  "kernelspec": {
   "display_name": "Python 3.9.9 64-bit ('my-rdkit-env': conda)",
   "language": "python",
   "name": "python3"
  },
  "language_info": {
   "codemirror_mode": {
    "name": "ipython",
    "version": 3
   },
   "file_extension": ".py",
   "mimetype": "text/x-python",
   "name": "python",
   "nbconvert_exporter": "python",
   "pygments_lexer": "ipython3",
   "version": "3.9.9"
  },
  "orig_nbformat": 4
 },
 "nbformat": 4,
 "nbformat_minor": 2
}
