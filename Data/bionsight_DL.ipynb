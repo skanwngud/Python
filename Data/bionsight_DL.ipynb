{
 "cells": [
  {
   "cell_type": "code",
   "execution_count": 21,
   "metadata": {},
   "outputs": [],
   "source": [
    "import tensorflow as tf\n",
    "import pandas as pd\n",
    "import numpy as np\n",
    "import rdkit.Chem as Chem\n",
    "import rdkit.Chem.AllChem as AllChem\n",
    "\n",
    "from sklearn.model_selection import train_test_split"
   ]
  },
  {
   "cell_type": "code",
   "execution_count": 22,
   "metadata": {},
   "outputs": [],
   "source": [
    "from tensorflow.keras.models import Sequential\n",
    "from tensorflow.keras.layers import Embedding, Dense, Flatten, \\\n",
    "    Activation, BatchNormalization, LSTM, Dropout\n",
    "from tensorflow.keras.callbacks import EarlyStopping, ReduceLROnPlateau\n",
    "from tensorflow.keras.optimizers import Adam\n",
    "\n",
    "from sklearn.metrics import accuracy_score, recall_score, precision_score, f1_score"
   ]
  },
  {
   "cell_type": "code",
   "execution_count": 23,
   "metadata": {},
   "outputs": [],
   "source": [
    "df = pd.read_csv('cmpd.csv')\n",
    "count = 0\n",
    "\n",
    "train = pd.DataFrame(columns=['inchikey', 'smiles', 'activity'])\n",
    "test = pd.DataFrame(columns=['inchikey', 'smiles', 'activity'])\n",
    "\n",
    "for idx in range(len(df)):\n",
    "    if df.iloc[idx, -2] == 'train':\n",
    "        train.loc[idx] = df.iloc[idx, [0, 1, 3]]\n",
    "        count += 1\n",
    "    else:\n",
    "        test.loc[idx] = df.iloc[idx, [0, 1, 3]]\n",
    "        count += 1\n",
    "\n",
    "train = train.reset_index(drop=True)\n",
    "test = test.reset_index(drop=True)"
   ]
  },
  {
   "cell_type": "code",
   "execution_count": 24,
   "metadata": {},
   "outputs": [],
   "source": [
    "X_train = train.iloc[:, :-1]\n",
    "y_train = train.iloc[:, -1].to_list()\n",
    "X_test = test.iloc[:, :-1]\n",
    "y_test = test.iloc[:, -1].to_list()"
   ]
  },
  {
   "cell_type": "code",
   "execution_count": 25,
   "metadata": {},
   "outputs": [],
   "source": [
    "def y_to_vec(list):\n",
    "    for idx in range(len(list)):\n",
    "        if list[idx] == 'active':\n",
    "            list[idx] = 1\n",
    "        else:\n",
    "            list[idx] = 0\n",
    "    return list\n",
    "\n",
    "y_train = y_to_vec(y_train)\n",
    "y_test = y_to_vec(y_test)\n",
    "\n",
    "y_train = tf.keras.utils.to_categorical(y_train)\n",
    "y_test = tf.keras.utils.to_categorical(y_test)"
   ]
  },
  {
   "cell_type": "code",
   "execution_count": 26,
   "metadata": {},
   "outputs": [
    {
     "name": "stdout",
     "output_type": "stream",
     "text": [
      "3579\n",
      "398\n",
      "1553\n",
      "3579\n",
      "398\n",
      "1553\n"
     ]
    }
   ],
   "source": [
    "X_train, X_val, y_train, y_val = train_test_split(X_train, y_train, train_size=0.9, random_state=23)\n",
    "\n",
    "print(len(X_train)) # 3181\n",
    "print(len(X_val))   # 796\n",
    "print(len(X_test))  # 1553\n",
    "\n",
    "print(len(y_train)) # 3181\n",
    "print(len(y_val))   # 796\n",
    "print(len(y_test))  # 1553"
   ]
  },
  {
   "cell_type": "code",
   "execution_count": 27,
   "metadata": {},
   "outputs": [],
   "source": [
    "def make_dataset(df):\n",
    "    temp_list = []\n",
    "\n",
    "    for idx in range(len(df)):\n",
    "        temp_list.append(df.iloc[idx, :])\n",
    "    \n",
    "    tokenizer = tf.keras.preprocessing.text.Tokenizer(lower=False, char_level=True)\n",
    "    tokenizer.fit_on_texts(temp_list)\n",
    "    top_k = len(tokenizer.word_index)\n",
    "\n",
    "    temp_seq = tokenizer.texts_to_sequences(temp_list)\n",
    "    temp_vec = tf.keras.preprocessing.sequence.pad_sequences(temp_seq, padding='post')\n",
    "    return temp_vec\n",
    "\n",
    "X_train = make_dataset(X_train)\n",
    "X_val = make_dataset(X_val)\n",
    "X_test = make_dataset(X_test)"
   ]
  },
  {
   "cell_type": "code",
   "execution_count": 28,
   "metadata": {},
   "outputs": [
    {
     "name": "stdout",
     "output_type": "stream",
     "text": [
      "(3579, 2)\n",
      "7121\n"
     ]
    }
   ],
   "source": [
    "print(X_train.shape)\n",
    "print(len(np.unique(X_train)))"
   ]
  },
  {
   "cell_type": "code",
   "execution_count": 29,
   "metadata": {},
   "outputs": [],
   "source": [
    "es = EarlyStopping(mode='auto', patience=30, monitor='val_loss', restore_best_weights=True)\n",
    "rl = ReduceLROnPlateau(mode='auto',monitor='val_loss',patience=10)"
   ]
  },
  {
   "cell_type": "code",
   "execution_count": 34,
   "metadata": {},
   "outputs": [
    {
     "name": "stderr",
     "output_type": "stream",
     "text": [
      "D:\\APPL\\anaconda\\envs\\bionsight\\lib\\site-packages\\keras\\optimizer_v2\\adam.py:105: UserWarning: The `lr` argument is deprecated, use `learning_rate` instead.\n",
      "  super(Adam, self).__init__(name, **kwargs)\n"
     ]
    },
    {
     "name": "stdout",
     "output_type": "stream",
     "text": [
      "Epoch 1/100\n",
      "56/56 [==============================] - 1s 10ms/step - loss: 0.7010 - mse: 0.2526 - val_loss: 0.7249 - val_mse: 0.2618 - lr: 0.1000\n",
      "Epoch 2/100\n",
      "56/56 [==============================] - 0s 8ms/step - loss: 0.6912 - mse: 0.2490 - val_loss: 0.6913 - val_mse: 0.2491 - lr: 0.1000\n",
      "Epoch 3/100\n",
      "56/56 [==============================] - 0s 8ms/step - loss: 0.6916 - mse: 0.2492 - val_loss: 0.6927 - val_mse: 0.2498 - lr: 0.1000\n",
      "Epoch 4/100\n",
      "56/56 [==============================] - 0s 8ms/step - loss: 0.6919 - mse: 0.2494 - val_loss: 0.6920 - val_mse: 0.2494 - lr: 0.1000\n",
      "Epoch 5/100\n",
      "56/56 [==============================] - 0s 8ms/step - loss: 0.6907 - mse: 0.2488 - val_loss: 0.6920 - val_mse: 0.2494 - lr: 0.1000\n",
      "Epoch 6/100\n",
      "56/56 [==============================] - 0s 8ms/step - loss: 0.6927 - mse: 0.2497 - val_loss: 0.6959 - val_mse: 0.2514 - lr: 0.1000\n",
      "Epoch 7/100\n",
      "56/56 [==============================] - 0s 8ms/step - loss: 0.6925 - mse: 0.2496 - val_loss: 0.6982 - val_mse: 0.2525 - lr: 0.1000\n",
      "Epoch 8/100\n",
      "56/56 [==============================] - 0s 8ms/step - loss: 0.6913 - mse: 0.2491 - val_loss: 0.6966 - val_mse: 0.2517 - lr: 0.1000\n",
      "Epoch 9/100\n",
      "56/56 [==============================] - 0s 8ms/step - loss: 0.6913 - mse: 0.2491 - val_loss: 0.6990 - val_mse: 0.2529 - lr: 0.1000\n",
      "Epoch 10/100\n",
      "56/56 [==============================] - 0s 8ms/step - loss: 0.6924 - mse: 0.2496 - val_loss: 0.6921 - val_mse: 0.2495 - lr: 0.1000\n",
      "Epoch 11/100\n",
      "56/56 [==============================] - 0s 8ms/step - loss: 0.6909 - mse: 0.2488 - val_loss: 0.6925 - val_mse: 0.2497 - lr: 0.1000\n",
      "Epoch 12/100\n",
      "56/56 [==============================] - 0s 8ms/step - loss: 0.6895 - mse: 0.2482 - val_loss: 0.6931 - val_mse: 0.2500 - lr: 0.1000\n",
      "Epoch 13/100\n",
      "56/56 [==============================] - 0s 8ms/step - loss: 0.6909 - mse: 0.2489 - val_loss: 0.6922 - val_mse: 0.2495 - lr: 0.0100\n",
      "Epoch 14/100\n",
      "56/56 [==============================] - 0s 8ms/step - loss: 0.6899 - mse: 0.2484 - val_loss: 0.6928 - val_mse: 0.2498 - lr: 0.0100\n",
      "Epoch 15/100\n",
      "56/56 [==============================] - 0s 8ms/step - loss: 0.6900 - mse: 0.2484 - val_loss: 0.6924 - val_mse: 0.2496 - lr: 0.0100\n",
      "Epoch 16/100\n",
      "56/56 [==============================] - 0s 8ms/step - loss: 0.6899 - mse: 0.2484 - val_loss: 0.6925 - val_mse: 0.2497 - lr: 0.0100\n",
      "Epoch 17/100\n",
      "56/56 [==============================] - 0s 8ms/step - loss: 0.6900 - mse: 0.2484 - val_loss: 0.6924 - val_mse: 0.2496 - lr: 0.0100\n",
      "Epoch 18/100\n",
      "56/56 [==============================] - 0s 8ms/step - loss: 0.6900 - mse: 0.2484 - val_loss: 0.6924 - val_mse: 0.2496 - lr: 0.0100\n",
      "Epoch 19/100\n",
      "56/56 [==============================] - 0s 8ms/step - loss: 0.6898 - mse: 0.2483 - val_loss: 0.6926 - val_mse: 0.2497 - lr: 0.0100\n",
      "Epoch 20/100\n",
      "56/56 [==============================] - 0s 8ms/step - loss: 0.6899 - mse: 0.2484 - val_loss: 0.6923 - val_mse: 0.2496 - lr: 0.0100\n",
      "Epoch 21/100\n",
      "56/56 [==============================] - 0s 8ms/step - loss: 0.6899 - mse: 0.2484 - val_loss: 0.6924 - val_mse: 0.2496 - lr: 0.0100\n",
      "Epoch 22/100\n",
      "56/56 [==============================] - 0s 8ms/step - loss: 0.6899 - mse: 0.2484 - val_loss: 0.6924 - val_mse: 0.2496 - lr: 0.0100\n",
      "Epoch 23/100\n",
      "56/56 [==============================] - 0s 8ms/step - loss: 0.6898 - mse: 0.2483 - val_loss: 0.6924 - val_mse: 0.2496 - lr: 1.0000e-03\n",
      "Epoch 24/100\n",
      "56/56 [==============================] - 0s 8ms/step - loss: 0.6898 - mse: 0.2483 - val_loss: 0.6924 - val_mse: 0.2496 - lr: 1.0000e-03\n",
      "Epoch 25/100\n",
      "56/56 [==============================] - 0s 8ms/step - loss: 0.6898 - mse: 0.2483 - val_loss: 0.6924 - val_mse: 0.2496 - lr: 1.0000e-03\n",
      "Epoch 26/100\n",
      "56/56 [==============================] - 0s 8ms/step - loss: 0.6898 - mse: 0.2483 - val_loss: 0.6924 - val_mse: 0.2496 - lr: 1.0000e-03\n",
      "Epoch 27/100\n",
      "56/56 [==============================] - 0s 8ms/step - loss: 0.6898 - mse: 0.2483 - val_loss: 0.6924 - val_mse: 0.2496 - lr: 1.0000e-03\n",
      "Epoch 28/100\n",
      "56/56 [==============================] - 0s 7ms/step - loss: 0.6898 - mse: 0.2483 - val_loss: 0.6924 - val_mse: 0.2496 - lr: 1.0000e-03\n",
      "Epoch 29/100\n",
      "56/56 [==============================] - 0s 8ms/step - loss: 0.6898 - mse: 0.2483 - val_loss: 0.6924 - val_mse: 0.2496 - lr: 1.0000e-03\n",
      "Epoch 30/100\n",
      "56/56 [==============================] - 0s 8ms/step - loss: 0.6898 - mse: 0.2483 - val_loss: 0.6924 - val_mse: 0.2496 - lr: 1.0000e-03\n",
      "Epoch 31/100\n",
      "56/56 [==============================] - 0s 8ms/step - loss: 0.6898 - mse: 0.2483 - val_loss: 0.6925 - val_mse: 0.2497 - lr: 1.0000e-03\n",
      "Epoch 32/100\n",
      "56/56 [==============================] - 0s 8ms/step - loss: 0.6898 - mse: 0.2483 - val_loss: 0.6924 - val_mse: 0.2496 - lr: 1.0000e-03\n"
     ]
    },
    {
     "data": {
      "text/plain": [
       "<keras.callbacks.History at 0x24c6a986670>"
      ]
     },
     "execution_count": 34,
     "metadata": {},
     "output_type": "execute_result"
    }
   ],
   "source": [
    "model = Sequential()\n",
    "model.add(Embedding(input_dim=len(np.unique(X_train)), output_dim=11, input_length=2))\n",
    "# model.add(LSTM(32))\n",
    "# model.add(BatchNormalization())\n",
    "# model.add(Activation('relu'))\n",
    "model.add(Flatten())\n",
    "model.add(Dense(16))\n",
    "model.add(BatchNormalization())\n",
    "model.add(Activation('relu'))\n",
    "model.add(Dense(32))\n",
    "model.add(BatchNormalization())\n",
    "model.add(Activation('relu'))\n",
    "model.add(Dense(16))\n",
    "model.add(BatchNormalization())\n",
    "model.add(Activation('relu'))\n",
    "model.add(Dense(8))\n",
    "model.add(BatchNormalization())\n",
    "model.add(Activation('relu'))\n",
    "model.add(Dense(2))\n",
    "model.add(Activation('sigmoid'))\n",
    "\n",
    "model.compile(\n",
    "    optimizer=Adam(lr=0.1),\n",
    "    loss='binary_crossentropy',\n",
    "    metrics='acc'\n",
    ")\n",
    "\n",
    "model.fit(\n",
    "    X_train, y_train,\n",
    "    validation_data=[X_val, y_val],\n",
    "    epochs=100, batch_size=64,\n",
    "    callbacks=[es, rl]\n",
    ")"
   ]
  },
  {
   "cell_type": "code",
   "execution_count": 35,
   "metadata": {},
   "outputs": [
    {
     "name": "stdout",
     "output_type": "stream",
     "text": [
      "49/49 [==============================] - 0s 3ms/step - loss: 0.7114 - mse: 0.2591\n",
      "[1. 1. 1. ... 1. 1. 1.]\n",
      "[1. 1. 1. ... 1. 1. 1.]\n",
      "0.7113742828369141 0.25909969210624695\n",
      "1.0\n",
      "1.0\n",
      "1.0\n",
      "1.0\n"
     ]
    }
   ],
   "source": [
    "\n",
    "loss, acc = model.evaluate(\n",
    "    X_test, y_test\n",
    ")\n",
    "\n",
    "\n",
    "y_pred = model.predict(y_test)[:, 1]\n",
    "for idx in range(len(y_pred)):\n",
    "    if y_pred[idx] > 0.5:\n",
    "        y_pred[idx] = 1.\n",
    "    else:\n",
    "        y_pred[idx] = 0.\n",
    "_y_test = np.max(y_test, axis=1)\n",
    "\n",
    "print(y_pred)\n",
    "print(_y_test)\n",
    "\n",
    "acc_score = accuracy_score(_y_test, y_pred)\n",
    "recall = recall_score(_y_test, y_pred)\n",
    "precision = precision_score(_y_test, y_pred)\n",
    "f1 = f1_score(_y_test, y_pred)\n",
    "\n",
    "print(loss, acc)\n",
    "print(acc_score)\n",
    "print(recall)\n",
    "print(precision)\n",
    "print(f1)\n",
    "# log_loss = metrics.log_loss(np.max(y_test, axis=1), y_pred, labels=[0, 1])\n",
    "# print(log_loss)"
   ]
  },
  {
   "cell_type": "code",
   "execution_count": 32,
   "metadata": {},
   "outputs": [],
   "source": [
    "# precision, recall, _ = metrics.precision_recall_curve(np.max(y_test, axis=1), y_pred, pos_label=None)\n",
    "# fpr_roc, tpr_roc, _ = metrics.roc_curve(np.max(y_test, axis=1), y_pred, pos_label=None)\n",
    "\n",
    "# auc1 = metrics.auc(recall, precision)\n",
    "# auc2 = metrics.auc(fpr_roc, tpr_roc)\n",
    "\n",
    "# print(auc1)\n",
    "# print(auc2)"
   ]
  },
  {
   "cell_type": "code",
   "execution_count": 33,
   "metadata": {},
   "outputs": [],
   "source": [
    "# train val 0.9 (BatchNormal)\n",
    "# 5.406352996826172 0.5251256227493286\n",
    "\n",
    "# train val 0.9 (Dropout)\n",
    "# 31.515090942382812 0.5175879597663879\n",
    "\n",
    "# train val 0.9 (BatchNormal + Dropout)\n",
    "# 8.611763000488281 0.5150753855705261\n",
    "\n",
    "# train val 0.9 (BatchNormal + adjust node)\n",
    "# 3.570016622543335 0.5025125741958618"
   ]
  }
 ],
 "metadata": {
  "interpreter": {
   "hash": "4bca1ad9f50851a769ec7529255a32af999b689bc691eaa839bbd1ce314bc388"
  },
  "kernelspec": {
   "display_name": "Python 3.9.9 64-bit ('bionsight': conda)",
   "name": "python3"
  },
  "language_info": {
   "codemirror_mode": {
    "name": "ipython",
    "version": 3
   },
   "file_extension": ".py",
   "mimetype": "text/x-python",
   "name": "python",
   "nbconvert_exporter": "python",
   "pygments_lexer": "ipython3",
   "version": "3.9.9"
  },
  "orig_nbformat": 4
 },
 "nbformat": 4,
 "nbformat_minor": 2
}
