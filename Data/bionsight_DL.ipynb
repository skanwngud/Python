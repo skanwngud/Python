{
 "cells": [
  {
   "cell_type": "code",
   "execution_count": 123,
   "metadata": {},
   "outputs": [],
   "source": [
    "import tensorflow as tf\n",
    "import pandas as pd\n",
    "import numpy as np\n",
    "import rdkit.Chem as Chem\n",
    "import rdkit.Chem.AllChem as AllChem\n",
    "\n",
    "from sklearn.model_selection import train_test_split"
   ]
  },
  {
   "cell_type": "code",
   "execution_count": 124,
   "metadata": {},
   "outputs": [],
   "source": [
    "df = pd.read_csv('cmpd.csv')\n",
    "count = 0\n",
    "\n",
    "train = pd.DataFrame(columns=['inchikey', 'smiles', 'activity'])\n",
    "test = pd.DataFrame(columns=['inchikey', 'smiles', 'activity'])\n",
    "\n",
    "for idx in range(len(df)):\n",
    "    if df.iloc[idx, -2] == 'train':\n",
    "        train.loc[idx] = df.iloc[idx, [0, 1, 3]]\n",
    "        count += 1\n",
    "    else:\n",
    "        test.loc[idx] = df.iloc[idx, [0, 1, 3]]\n",
    "        count += 1\n",
    "\n",
    "train = train.reset_index(drop=True)\n",
    "test = test.reset_index(drop=True)"
   ]
  },
  {
   "cell_type": "code",
   "execution_count": 125,
   "metadata": {},
   "outputs": [],
   "source": [
    "X_train = train.iloc[:, :-1]\n",
    "y_train = train.iloc[:, -1].to_list()\n",
    "X_test = test.iloc[:, :-1]\n",
    "y_test = test.iloc[:, -1].to_list()"
   ]
  },
  {
   "cell_type": "code",
   "execution_count": 126,
   "metadata": {},
   "outputs": [
    {
     "name": "stdout",
     "output_type": "stream",
     "text": [
      "[[0. 1.]\n",
      " [0. 1.]\n",
      " [0. 1.]\n",
      " ...\n",
      " [1. 0.]\n",
      " [1. 0.]\n",
      " [1. 0.]]\n",
      "[[0. 1.]\n",
      " [0. 1.]\n",
      " [0. 1.]\n",
      " ...\n",
      " [1. 0.]\n",
      " [1. 0.]\n",
      " [1. 0.]]\n"
     ]
    }
   ],
   "source": [
    "def y_to_vec(list):\n",
    "    for idx in range(len(list)):\n",
    "        if list[idx] == 'active':\n",
    "            list[idx] = 1\n",
    "        else:\n",
    "            list[idx] = 0\n",
    "    return list\n",
    "\n",
    "y_train = y_to_vec(y_train)\n",
    "y_test = y_to_vec(y_test)\n",
    "\n",
    "y_train = tf.keras.utils.to_categorical(y_train)\n",
    "y_test = tf.keras.utils.to_categorical(y_test)\n",
    "\n",
    "print(y_train)\n",
    "print(y_test)"
   ]
  },
  {
   "cell_type": "code",
   "execution_count": 127,
   "metadata": {},
   "outputs": [
    {
     "name": "stdout",
     "output_type": "stream",
     "text": [
      "3181\n",
      "796\n",
      "1553\n",
      "3181\n",
      "796\n",
      "1553\n"
     ]
    }
   ],
   "source": [
    "X_train, X_val, y_train, y_val = train_test_split(X_train, y_train, train_size=0.8, random_state=23)\n",
    "\n",
    "print(len(X_train)) # 3181\n",
    "print(len(X_val))   # 796\n",
    "print(len(X_test))  # 1553\n",
    "\n",
    "print(len(y_train)) # 3181\n",
    "print(len(y_val))   # 796\n",
    "print(len(y_test))  # 1553"
   ]
  },
  {
   "cell_type": "code",
   "execution_count": 138,
   "metadata": {},
   "outputs": [],
   "source": [
    "def make_dataset(df):\n",
    "    temp_list = []\n",
    "\n",
    "    for idx in range(len(df)):\n",
    "        temp_list.append(df.iloc[idx, :])\n",
    "    \n",
    "    tokenizer = tf.keras.preprocessing.text.Tokenizer(lower=False, char_level=True)\n",
    "    tokenizer.fit_on_texts(temp_list)\n",
    "    top_k = len(tokenizer.word_index)\n",
    "\n",
    "    temp_seq = tokenizer.texts_to_sequences(temp_list)\n",
    "    temp_vec = tf.keras.preprocessing.sequence.pad_sequences(temp_seq, padding='post')\n",
    "    return temp_vec\n",
    "\n",
    "X_train = make_dataset(X_train)\n",
    "X_val = make_dataset(X_val)\n",
    "X_test = make_dataset(X_test)\n",
    "# X_train_inchikey = make_dataset(X_train, 0)\n",
    "# X_train_smiles = make_dataset(X_train, 1)\n",
    "# X_val_inchikey = make_dataset(X_val, 0)\n",
    "# X_val_smiles = make_dataset(X_val, 1)\n",
    "# X_test_inchikey = make_dataset(X_test, 0)\n",
    "# X_test_smiles = make_dataset(X_test, 1)"
   ]
  },
  {
   "cell_type": "code",
   "execution_count": 139,
   "metadata": {},
   "outputs": [
    {
     "name": "stdout",
     "output_type": "stream",
     "text": [
      "[[  24   25]\n",
      " [  26   27]\n",
      " [  28   29]\n",
      " ...\n",
      " [6329 6330]\n",
      " [6331 6332]\n",
      " [6333 6334]]\n",
      "[[   1    2]\n",
      " [   3    4]\n",
      " [   5    6]\n",
      " ...\n",
      " [1587 1588]\n",
      " [1589 1590]\n",
      " [1591 1592]]\n",
      "[[  19   20]\n",
      " [   2    3]\n",
      " [   4    5]\n",
      " ...\n",
      " [3082 3083]\n",
      " [3084 3085]\n",
      " [3086 3087]]\n"
     ]
    }
   ],
   "source": [
    "print(X_train)\n",
    "# print(X_train_smiles)\n",
    "print(X_val)\n",
    "# print(X_val_smiles)\n",
    "print(X_test)\n",
    "# print(X_test_smiles)"
   ]
  },
  {
   "cell_type": "code",
   "execution_count": 140,
   "metadata": {},
   "outputs": [
    {
     "name": "stdout",
     "output_type": "stream",
     "text": [
      "(3181, 2)\n",
      "6334\n"
     ]
    }
   ],
   "source": [
    "print(X_train.shape)\n",
    "print(len(np.unique(X_train)))"
   ]
  },
  {
   "cell_type": "code",
   "execution_count": 152,
   "metadata": {},
   "outputs": [],
   "source": [
    "from tensorflow.keras.models import Sequential\n",
    "from tensorflow.keras.layers import Embedding, Dense, Flatten, Activation, BatchNormalization, LSTM"
   ]
  },
  {
   "cell_type": "code",
   "execution_count": 156,
   "metadata": {},
   "outputs": [
    {
     "name": "stdout",
     "output_type": "stream",
     "text": [
      "Epoch 1/100\n",
      "100/100 [==============================] - 3s 11ms/step - loss: 0.7275 - acc: 0.5052 - val_loss: 0.6952 - val_acc: 0.4636\n",
      "Epoch 2/100\n",
      "100/100 [==============================] - 1s 8ms/step - loss: 0.5848 - acc: 0.7428 - val_loss: 0.7011 - val_acc: 0.4598\n",
      "Epoch 3/100\n",
      "100/100 [==============================] - 1s 8ms/step - loss: 0.3654 - acc: 0.8953 - val_loss: 0.7225 - val_acc: 0.4598\n",
      "Epoch 4/100\n",
      "100/100 [==============================] - 1s 8ms/step - loss: 0.1619 - acc: 0.9686 - val_loss: 0.8679 - val_acc: 0.4611\n",
      "Epoch 5/100\n",
      "100/100 [==============================] - 1s 8ms/step - loss: 0.0819 - acc: 0.9855 - val_loss: 1.0013 - val_acc: 0.4950\n",
      "Epoch 6/100\n",
      "100/100 [==============================] - 1s 8ms/step - loss: 0.0482 - acc: 0.9921 - val_loss: 1.2682 - val_acc: 0.5151\n",
      "Epoch 7/100\n",
      "100/100 [==============================] - 1s 8ms/step - loss: 0.0444 - acc: 0.9899 - val_loss: 1.5772 - val_acc: 0.4824\n",
      "Epoch 8/100\n",
      "100/100 [==============================] - 1s 8ms/step - loss: 0.0310 - acc: 0.9943 - val_loss: 1.7830 - val_acc: 0.4837\n",
      "Epoch 9/100\n",
      "100/100 [==============================] - 1s 8ms/step - loss: 0.0258 - acc: 0.9928 - val_loss: 2.0202 - val_acc: 0.5013\n",
      "Epoch 10/100\n",
      "100/100 [==============================] - 1s 8ms/step - loss: 0.0338 - acc: 0.9925 - val_loss: 2.4877 - val_acc: 0.5025\n",
      "Epoch 11/100\n",
      "100/100 [==============================] - 1s 8ms/step - loss: 0.0451 - acc: 0.9871 - val_loss: 2.5109 - val_acc: 0.5025\n",
      "Epoch 12/100\n",
      "100/100 [==============================] - 1s 8ms/step - loss: 0.0476 - acc: 0.9846 - val_loss: 2.6978 - val_acc: 0.5063\n",
      "Epoch 13/100\n",
      "100/100 [==============================] - 1s 8ms/step - loss: 0.0427 - acc: 0.9865 - val_loss: 2.6165 - val_acc: 0.4937\n",
      "Epoch 14/100\n",
      "100/100 [==============================] - 1s 8ms/step - loss: 0.0417 - acc: 0.9868 - val_loss: 2.3953 - val_acc: 0.4950\n",
      "Epoch 15/100\n",
      "100/100 [==============================] - 1s 8ms/step - loss: 0.0449 - acc: 0.9849 - val_loss: 2.5220 - val_acc: 0.5138\n",
      "Epoch 16/100\n",
      "100/100 [==============================] - 1s 8ms/step - loss: 0.0455 - acc: 0.9827 - val_loss: 2.6119 - val_acc: 0.5000\n",
      "Epoch 17/100\n",
      "100/100 [==============================] - 1s 8ms/step - loss: 0.0392 - acc: 0.9881 - val_loss: 2.6166 - val_acc: 0.4912\n",
      "Epoch 18/100\n",
      "100/100 [==============================] - 1s 8ms/step - loss: 0.0302 - acc: 0.9903 - val_loss: 2.7988 - val_acc: 0.5013\n",
      "Epoch 19/100\n",
      "100/100 [==============================] - 1s 8ms/step - loss: 0.0341 - acc: 0.9925 - val_loss: 2.8092 - val_acc: 0.4987\n",
      "Epoch 20/100\n",
      "100/100 [==============================] - 1s 8ms/step - loss: 0.0176 - acc: 0.9947 - val_loss: 2.6801 - val_acc: 0.5050\n",
      "Epoch 21/100\n",
      "100/100 [==============================] - 1s 8ms/step - loss: 0.0161 - acc: 0.9953 - val_loss: 2.8414 - val_acc: 0.5063\n",
      "Epoch 22/100\n",
      "100/100 [==============================] - 1s 8ms/step - loss: 0.0129 - acc: 0.9950 - val_loss: 2.8613 - val_acc: 0.4950\n",
      "Epoch 23/100\n",
      "100/100 [==============================] - 1s 8ms/step - loss: 0.0132 - acc: 0.9950 - val_loss: 3.0456 - val_acc: 0.4950\n",
      "Epoch 24/100\n",
      "100/100 [==============================] - 1s 8ms/step - loss: 0.0140 - acc: 0.9959 - val_loss: 2.9843 - val_acc: 0.5025\n",
      "Epoch 25/100\n",
      "100/100 [==============================] - 1s 8ms/step - loss: 0.0106 - acc: 0.9969 - val_loss: 3.1171 - val_acc: 0.5038\n",
      "Epoch 26/100\n",
      "100/100 [==============================] - 1s 8ms/step - loss: 0.0128 - acc: 0.9956 - val_loss: 3.3963 - val_acc: 0.4874\n",
      "Epoch 27/100\n",
      "100/100 [==============================] - 1s 8ms/step - loss: 0.0160 - acc: 0.9934 - val_loss: 3.0881 - val_acc: 0.4975\n",
      "Epoch 28/100\n",
      "100/100 [==============================] - 1s 8ms/step - loss: 0.0212 - acc: 0.9928 - val_loss: 2.8742 - val_acc: 0.5038\n",
      "Epoch 29/100\n",
      "100/100 [==============================] - 1s 8ms/step - loss: 0.0204 - acc: 0.9931 - val_loss: 3.2742 - val_acc: 0.5088\n",
      "Epoch 30/100\n",
      "100/100 [==============================] - 1s 8ms/step - loss: 0.0224 - acc: 0.9921 - val_loss: 3.2695 - val_acc: 0.4887\n",
      "Epoch 31/100\n",
      "100/100 [==============================] - 1s 8ms/step - loss: 0.0238 - acc: 0.9915 - val_loss: 3.2193 - val_acc: 0.4874\n",
      "Epoch 32/100\n",
      "100/100 [==============================] - 1s 8ms/step - loss: 0.0219 - acc: 0.9928 - val_loss: 3.1961 - val_acc: 0.4950\n",
      "Epoch 33/100\n",
      "100/100 [==============================] - 1s 9ms/step - loss: 0.0195 - acc: 0.9931 - val_loss: 3.4729 - val_acc: 0.4887\n",
      "Epoch 34/100\n",
      "100/100 [==============================] - 1s 8ms/step - loss: 0.0140 - acc: 0.9943 - val_loss: 3.3877 - val_acc: 0.4962\n",
      "Epoch 35/100\n",
      "100/100 [==============================] - 1s 8ms/step - loss: 0.0211 - acc: 0.9918 - val_loss: 3.4983 - val_acc: 0.4925\n",
      "Epoch 36/100\n",
      "100/100 [==============================] - 1s 8ms/step - loss: 0.0171 - acc: 0.9943 - val_loss: 3.4660 - val_acc: 0.4887\n",
      "Epoch 37/100\n",
      "100/100 [==============================] - 1s 8ms/step - loss: 0.0130 - acc: 0.9947 - val_loss: 3.5366 - val_acc: 0.4962\n",
      "Epoch 38/100\n",
      "100/100 [==============================] - 1s 8ms/step - loss: 0.0089 - acc: 0.9965 - val_loss: 3.5438 - val_acc: 0.4962\n",
      "Epoch 39/100\n",
      "100/100 [==============================] - 1s 8ms/step - loss: 0.0131 - acc: 0.9940 - val_loss: 3.7881 - val_acc: 0.4937\n",
      "Epoch 40/100\n",
      "100/100 [==============================] - 1s 8ms/step - loss: 0.0162 - acc: 0.9947 - val_loss: 3.5778 - val_acc: 0.4887\n",
      "Epoch 41/100\n",
      "100/100 [==============================] - 1s 8ms/step - loss: 0.0097 - acc: 0.9969 - val_loss: 3.9105 - val_acc: 0.4950\n",
      "Epoch 42/100\n",
      "100/100 [==============================] - 1s 8ms/step - loss: 0.0140 - acc: 0.9953 - val_loss: 3.7751 - val_acc: 0.4962\n",
      "Epoch 43/100\n",
      "100/100 [==============================] - 1s 8ms/step - loss: 0.0115 - acc: 0.9950 - val_loss: 3.5556 - val_acc: 0.4912\n",
      "Epoch 44/100\n",
      "100/100 [==============================] - 1s 8ms/step - loss: 0.0107 - acc: 0.9975 - val_loss: 3.6142 - val_acc: 0.4887\n",
      "Epoch 45/100\n",
      "100/100 [==============================] - 1s 8ms/step - loss: 0.0117 - acc: 0.9959 - val_loss: 3.3821 - val_acc: 0.4837\n",
      "Epoch 46/100\n",
      "100/100 [==============================] - 1s 8ms/step - loss: 0.0055 - acc: 0.9975 - val_loss: 3.8139 - val_acc: 0.4887\n",
      "Epoch 47/100\n",
      "100/100 [==============================] - 1s 8ms/step - loss: 0.0051 - acc: 0.9978 - val_loss: 3.9520 - val_acc: 0.4862\n",
      "Epoch 48/100\n",
      "100/100 [==============================] - 1s 8ms/step - loss: 0.0038 - acc: 0.9984 - val_loss: 4.0835 - val_acc: 0.4862\n",
      "Epoch 49/100\n",
      "100/100 [==============================] - 1s 8ms/step - loss: 0.0039 - acc: 0.9981 - val_loss: 4.0904 - val_acc: 0.4824\n",
      "Epoch 50/100\n",
      " 58/100 [================>.............] - ETA: 0s - loss: 0.0036 - acc: 0.9984"
     ]
    }
   ],
   "source": [
    "model = Sequential()\n",
    "model.add(Embedding(input_dim=len(np.unique(X_train)), output_dim=11, input_length=2))\n",
    "model.add(LSTM(64))\n",
    "model.add(BatchNormalization())\n",
    "model.add(Activation('relu'))\n",
    "model.add(Flatten())\n",
    "model.add(Dense(16))\n",
    "model.add(BatchNormalization())\n",
    "model.add(Activation('relu'))\n",
    "model.add(Dense(32))\n",
    "model.add(BatchNormalization())\n",
    "model.add(Activation('relu'))\n",
    "model.add(Dense(2))\n",
    "model.add(Activation('sigmoid'))\n",
    "\n",
    "model.compile(\n",
    "    optimizer='adam',\n",
    "    loss='binary_crossentropy',\n",
    "    metrics='acc'\n",
    ")\n",
    "\n",
    "model.fit(\n",
    "    X_train, y_train,\n",
    "    validation_data=[X_val, y_val],\n",
    "    epochs=100\n",
    ")\n",
    "\n",
    "loss, acc = model.evaluate(\n",
    "    X_val, y_val\n",
    ")\n",
    "\n",
    "print(loss, acc)"
   ]
  },
  {
   "cell_type": "code",
   "execution_count": 149,
   "metadata": {},
   "outputs": [
    {
     "name": "stdout",
     "output_type": "stream",
     "text": [
      "[0.7311354  0.9257569  0.75772786 0.16909046 0.7906356 ]\n",
      "[[0. 1.]\n",
      " [0. 1.]\n",
      " [0. 1.]\n",
      " [0. 1.]\n",
      " [0. 1.]]\n"
     ]
    }
   ],
   "source": [
    "\n",
    "y_pred = model.predict(X_test)\n",
    "print(y_pred[:5, 1])\n",
    "print(y_test[:5])"
   ]
  }
 ],
 "metadata": {
  "interpreter": {
   "hash": "aa01bd4f9e7f3172056c2b5a9fff2142e6cb7e119fad403d03f0208e65b73e5a"
  },
  "kernelspec": {
   "display_name": "Python 3.9.9 64-bit ('my-rdkit-env': conda)",
   "language": "python",
   "name": "python3"
  },
  "language_info": {
   "codemirror_mode": {
    "name": "ipython",
    "version": 3
   },
   "file_extension": ".py",
   "mimetype": "text/x-python",
   "name": "python",
   "nbconvert_exporter": "python",
   "pygments_lexer": "ipython3",
   "version": "3.9.9"
  },
  "orig_nbformat": 4
 },
 "nbformat": 4,
 "nbformat_minor": 2
}
